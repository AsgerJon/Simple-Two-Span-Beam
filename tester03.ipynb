{
 "cells": [
  {
   "cell_type": "code",
   "execution_count": 1,
   "metadata": {
    "ExecuteTime": {
     "end_time": "2020-01-30T07:44:46.856447Z",
     "start_time": "2020-01-30T07:44:46.067687Z"
    }
   },
   "outputs": [],
   "source": [
    "from cont_beam_two_spans02 import *\n",
    "from beam_drawing import *\n",
    "import numpy as np\n",
    "import matplotlib.pyplot as plt\n",
    "import ipywidgets as widgets"
   ]
  },
  {
   "cell_type": "code",
   "execution_count": 2,
   "metadata": {
    "ExecuteTime": {
     "end_time": "2020-01-30T07:44:46.862431Z",
     "start_time": "2020-01-30T07:44:46.858437Z"
    }
   },
   "outputs": [],
   "source": [
    "a, b, L, q, R1 = 0, 0, 2000, 1, 375\n",
    "N = 1001"
   ]
  },
  {
   "cell_type": "code",
   "execution_count": 3,
   "metadata": {
    "ExecuteTime": {
     "end_time": "2020-01-30T07:44:46.894423Z",
     "start_time": "2020-01-30T07:44:46.864431Z"
    }
   },
   "outputs": [],
   "source": [
    "last_interval = widgets.IntRangeSlider(\n",
    "    value=[0, 100],\n",
    "    min=0,\n",
    "    max=100,\n",
    "    step=1,\n",
    "    description='Load:',\n",
    "    disabled=False,\n",
    "    continuous_update=False,\n",
    "    orientation='horizontal',\n",
    "    readout=True,\n",
    "    readout_format='d',\n",
    "    layout = widgets.Layout(\n",
    "        width = '600px',\n",
    "        height = '50px',\n",
    "        ),\n",
    ")\n",
    "\n",
    "last = widgets.FloatText(\n",
    "    value = 1,\n",
    "    description = 'Load: ',\n",
    "    disabled = False,\n",
    "    layout = widgets.Layout(\n",
    "        width = '250px',\n",
    "        height = '25px',\n",
    "        ),\n",
    ")\n",
    "\n",
    "length = widgets.FloatText(\n",
    "    value = 1000,\n",
    "    description = 'Length: ',\n",
    "    disabled = False,\n",
    "    layout = widgets.Layout(\n",
    "        width = '250px',\n",
    "        height = '25px',\n",
    "        ),\n",
    ")\n",
    "\n",
    "def last_funk(x, L, q):\n",
    "    a0 = min([x[0]/100*L,50])\n",
    "    b0 = max([x[1]/100*L,50])\n",
    "    draw_beam (a0, L-b0, L, q, N=1001)\n",
    "\n",
    "beam = widgets.interactive(last_funk, x=last_interval, L=length, q=last)"
   ]
  },
  {
   "cell_type": "code",
   "execution_count": 4,
   "metadata": {
    "ExecuteTime": {
     "end_time": "2020-01-30T07:44:48.829813Z",
     "start_time": "2020-01-30T07:44:46.895421Z"
    }
   },
   "outputs": [
    {
     "data": {
      "application/vnd.jupyter.widget-view+json": {
       "model_id": "4f1a4bba11954e80b88b00d877645841",
       "version_major": 2,
       "version_minor": 0
      },
      "text/plain": [
       "interactive(children=(IntRangeSlider(value=(0, 100), continuous_update=False, description='Load:', layout=Layo…"
      ]
     },
     "metadata": {},
     "output_type": "display_data"
    }
   ],
   "source": [
    "beam"
   ]
  }
 ],
 "metadata": {
  "kernelspec": {
   "display_name": "Python 3",
   "language": "python",
   "name": "python3"
  },
  "language_info": {
   "codemirror_mode": {
    "name": "ipython",
    "version": 3
   },
   "file_extension": ".py",
   "mimetype": "text/x-python",
   "name": "python",
   "nbconvert_exporter": "python",
   "pygments_lexer": "ipython3",
   "version": "3.7.4"
  },
  "latex_envs": {
   "LaTeX_envs_menu_present": true,
   "autoclose": true,
   "autocomplete": true,
   "bibliofile": "biblio.bib",
   "cite_by": "apalike",
   "current_citInitial": 1,
   "eqLabelWithNumbers": true,
   "eqNumInitial": 1,
   "hotkeys": {
    "equation": "Ctrl-E",
    "itemize": "Ctrl-I"
   },
   "labels_anchors": false,
   "latex_user_defs": false,
   "report_style_numbering": true,
   "user_envs_cfg": false
  },
  "varInspector": {
   "cols": {
    "lenName": 16,
    "lenType": 16,
    "lenVar": 40
   },
   "kernels_config": {
    "python": {
     "delete_cmd_postfix": "",
     "delete_cmd_prefix": "del ",
     "library": "var_list.py",
     "varRefreshCmd": "print(var_dic_list())"
    },
    "r": {
     "delete_cmd_postfix": ") ",
     "delete_cmd_prefix": "rm(",
     "library": "var_list.r",
     "varRefreshCmd": "cat(var_dic_list()) "
    }
   },
   "types_to_exclude": [
    "module",
    "function",
    "builtin_function_or_method",
    "instance",
    "_Feature"
   ],
   "window_display": false
  }
 },
 "nbformat": 4,
 "nbformat_minor": 2
}
