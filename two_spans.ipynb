{
 "cells": [
  {
   "cell_type": "code",
   "execution_count": 1,
   "metadata": {
    "ExecuteTime": {
     "end_time": "2020-01-30T09:56:11.159813Z",
     "start_time": "2020-01-30T09:56:10.421046Z"
    }
   },
   "outputs": [],
   "source": [
    "from two_span_beam import *"
   ]
  },
  {
   "cell_type": "markdown",
   "metadata": {},
   "source": [
    "# Bjælke over to fag med variabel jævnt fordelt last\n",
    "Med dette dokument kan du hurtigt analysere en bjælke over to fag, der er påvirket af en jævnt fordelt last, hvis udstrækning kan varieres. Lasten L er længden, q og last og udstrækningen vælges af interval slideren. "
   ]
  },
  {
   "cell_type": "code",
   "execution_count": 2,
   "metadata": {
    "ExecuteTime": {
     "end_time": "2020-01-30T09:56:13.082193Z",
     "start_time": "2020-01-30T09:56:11.160809Z"
    }
   },
   "outputs": [
    {
     "data": {
      "application/vnd.jupyter.widget-view+json": {
       "model_id": "0c6d0c7176ea4b29a91ff3eafa01077b",
       "version_major": 2,
       "version_minor": 0
      },
      "text/plain": [
       "interactive(children=(IntRangeSlider(value=(0, 100), continuous_update=False, description='Load Interval in Pe…"
      ]
     },
     "metadata": {},
     "output_type": "display_data"
    }
   ],
   "source": [
    "show"
   ]
  },
  {
   "cell_type": "code",
   "execution_count": 3,
   "metadata": {
    "ExecuteTime": {
     "end_time": "2020-01-30T09:56:13.087207Z",
     "start_time": "2020-01-30T09:56:13.083207Z"
    }
   },
   "outputs": [],
   "source": [
    "textlines = [\"Venstre Reaktion: \"]\n",
    "textlines.append(\"Midter Reaktion: \")\n",
    "textlines.append(\"Højre Reaktion: \")\n",
    "textlines.append(\"Maksimalt Positivt Moment: \")\n",
    "textlines.append(\"Maksimalt Negativt Moment: \")\n",
    "textlength = max([len(i) for i in textlines])\n",
    "for (i,j) in enumerate(textlines):\n",
    "    while len(textlines[i]) < textlength:\n",
    "        textlines[i] += \".\""
   ]
  },
  {
   "cell_type": "code",
   "execution_count": 4,
   "metadata": {
    "ExecuteTime": {
     "end_time": "2020-01-30T09:56:13.094189Z",
     "start_time": "2020-01-30T09:56:13.088190Z"
    }
   },
   "outputs": [
    {
     "data": {
      "text/plain": [
       "['Venstre Reaktion: .........',\n",
       " 'Midter Reaktion: ..........',\n",
       " 'Højre Reaktion: ...........',\n",
       " 'Maksimalt Positivt Moment: ',\n",
       " 'Maksimalt Negativt Moment: ']"
      ]
     },
     "execution_count": 4,
     "metadata": {},
     "output_type": "execute_result"
    }
   ],
   "source": [
    "textlines"
   ]
  },
  {
   "cell_type": "code",
   "execution_count": 5,
   "metadata": {
    "ExecuteTime": {
     "end_time": "2020-01-30T09:56:13.159180Z",
     "start_time": "2020-01-30T09:56:13.095188Z"
    }
   },
   "outputs": [
    {
     "ename": "NameError",
     "evalue": "name 'lol' is not defined",
     "output_type": "error",
     "traceback": [
      "\u001b[1;31m---------------------------------------------------------------------------\u001b[0m",
      "\u001b[1;31mNameError\u001b[0m                                 Traceback (most recent call last)",
      "\u001b[1;32m<ipython-input-5-6d9627000451>\u001b[0m in \u001b[0;36m<module>\u001b[1;34m\u001b[0m\n\u001b[1;32m----> 1\u001b[1;33m \u001b[0mlol\u001b[0m\u001b[1;33m\u001b[0m\u001b[1;33m\u001b[0m\u001b[0m\n\u001b[0m",
      "\u001b[1;31mNameError\u001b[0m: name 'lol' is not defined"
     ]
    }
   ],
   "source": [
    "lol"
   ]
  }
 ],
 "metadata": {
  "kernelspec": {
   "display_name": "Python 3",
   "language": "python",
   "name": "python3"
  },
  "language_info": {
   "codemirror_mode": {
    "name": "ipython",
    "version": 3
   },
   "file_extension": ".py",
   "mimetype": "text/x-python",
   "name": "python",
   "nbconvert_exporter": "python",
   "pygments_lexer": "ipython3",
   "version": "3.7.4"
  },
  "latex_envs": {
   "LaTeX_envs_menu_present": true,
   "autoclose": true,
   "autocomplete": true,
   "bibliofile": "biblio.bib",
   "cite_by": "apalike",
   "current_citInitial": 1,
   "eqLabelWithNumbers": true,
   "eqNumInitial": 1,
   "hotkeys": {
    "equation": "Ctrl-E",
    "itemize": "Ctrl-I"
   },
   "labels_anchors": false,
   "latex_user_defs": false,
   "report_style_numbering": true,
   "user_envs_cfg": false
  },
  "varInspector": {
   "cols": {
    "lenName": 16,
    "lenType": 16,
    "lenVar": 40
   },
   "kernels_config": {
    "python": {
     "delete_cmd_postfix": "",
     "delete_cmd_prefix": "del ",
     "library": "var_list.py",
     "varRefreshCmd": "print(var_dic_list())"
    },
    "r": {
     "delete_cmd_postfix": ") ",
     "delete_cmd_prefix": "rm(",
     "library": "var_list.r",
     "varRefreshCmd": "cat(var_dic_list()) "
    }
   },
   "types_to_exclude": [
    "module",
    "function",
    "builtin_function_or_method",
    "instance",
    "_Feature"
   ],
   "window_display": false
  }
 },
 "nbformat": 4,
 "nbformat_minor": 2
}
